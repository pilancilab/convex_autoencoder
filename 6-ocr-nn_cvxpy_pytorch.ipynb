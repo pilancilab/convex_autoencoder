{
 "cells": [
  {
   "cell_type": "code",
   "execution_count": 1,
   "metadata": {},
   "outputs": [],
   "source": [
    "import numpy as np\n",
    "import torch\n",
    "import sklearn.datasets\n",
    "\n",
    "from utils.preprocess import preprocess_data\n",
    "from utils.loss import nll\n",
    "from utils.helpers import generate_sign_patterns, get_out_string\n",
    "from utils.cvxpy_model import cvxpy_solver\n",
    "from utils.pytorch_model import sgd_solver\n",
    "from utils.visualization import get_times_epoch_xaxis, plot_metrics_over_time"
   ]
  },
  {
   "cell_type": "markdown",
   "metadata": {},
   "source": [
    "## Load Data"
   ]
  },
  {
   "cell_type": "code",
   "execution_count": 2,
   "metadata": {},
   "outputs": [],
   "source": [
    "# ocr_letters\n",
    "base_dir = 'all_data/vector_data/ocr_letters/ocr_letters_'\n",
    "output_dir = 'outputs/ocr_letters/'\n",
    "names = ['train', 'valid', 'test']\n",
    "files = [base_dir + ds + '.txt' for ds in names]\n",
    "d_tuples = [np.loadtxt(file) for file in files]\n",
    "X_tr, X_v, X_tst = [data[:, :-1] for data in d_tuples]\n",
    "X_train, y_train, X_valid, y_valid, X_test, y_test, D = preprocess_data(X_tr, X_v, X_tst, r=10)"
   ]
  },
  {
   "cell_type": "code",
   "execution_count": 10,
   "metadata": {},
   "outputs": [
    {
     "name": "stdout",
     "output_type": "stream",
     "text": [
      "Number of unique sign patterns generated: 50\n"
     ]
    }
   ],
   "source": [
    "# generate random sign patterns\n",
    "P, verbose = 50, True # SET verbose to True to see progress\n",
    "sign_pattern_list, u_vector_list = generate_sign_patterns(X_train, P, verbose)\n",
    "num_neurons = len(sign_pattern_list)\n",
    "num_epochs, batch_size = 5000, 100\n",
    "beta_noncvx = 1e-3\n",
    "learning_rate = 1e-3"
   ]
  },
  {
   "cell_type": "markdown",
   "metadata": {},
   "source": [
    "## NN"
   ]
  },
  {
   "cell_type": "code",
   "execution_count": 11,
   "metadata": {
    "scrolled": true
   },
   "outputs": [
    {
     "name": "stdout",
     "output_type": "stream",
     "text": [
      "Epoch [0/2], TRAIN: nll: 76.384, loss: 76.394, acc: 0.579.\n",
      "\t     TEST: nll: 82.421, loss: 82.421, acc: 0.417.\n",
      "Epoch [1/2], TRAIN: nll: 75.794, loss: 75.804, acc: 0.587.\n",
      "\t     TEST: nll: 83.444, loss: 83.444, acc: 0.448.\n",
      "\n",
      "TRAIN:  ZEROS nll: 85.56800079345703, loss: 85.568, acc: 0.41200000047683716.\n",
      "\tONES nll: 66.0199966430664, loss: 66.02, acc: 0.7630000114440918.\n",
      "TEST:   ZEROS nll: 85.53099822998047, loss: 85.531, acc: 0.4099999964237213.\n",
      "\tONES nll: 65.99199676513672, loss: 65.992, acc: 0.7630000114440918.\n"
     ]
    }
   ],
   "source": [
    "solver_type = \"sgd\" # pick: \"sgd\" or \"LBFGS\"\n",
    "LBFGS_param = [10, 4] # these parameters are for the LBFGS solver\n",
    "results_noncvx = sgd_solver(X_train, y_train, X_valid, y_valid, \n",
    "                            num_epochs, num_neurons, beta_noncvx, \n",
    "                            learning_rate, batch_size, solver_type, \n",
    "                            LBFGS_param, D, verbose=verbose, eps=1e-2, \n",
    "                            last_n=10)"
   ]
  },
  {
   "cell_type": "markdown",
   "metadata": {},
   "source": [
    "## PyTorch - hinge loss"
   ]
  },
  {
   "cell_type": "code",
   "execution_count": 12,
   "metadata": {
    "scrolled": true
   },
   "outputs": [
    {
     "name": "stdout",
     "output_type": "stream",
     "text": [
      "Epoch [0/2], TRAIN: nll: 69.645, loss: 69.672, acc: 0.655.\n",
      "\t     TEST: nll: 74.877, loss: 74.886, acc: 0.723.\n",
      "Epoch [1/2], TRAIN: nll: 68.217, loss: 68.257, acc: 0.66.\n",
      "\t     TEST: nll: 73.672, loss: 73.685, acc: 0.733.\n",
      "\n",
      "TRAIN:  ZEROS nll: 75.53399658203125, loss: 75.547, acc: 0.75.\n",
      "\tONES nll: 60.9010009765625, loss: 60.919, acc: 0.5699999928474426.\n",
      "TEST:   ZEROS nll: 75.2239990234375, loss: 75.237, acc: 0.753000020980835.\n",
      "\tONES nll: 60.69300079345703, loss: 60.711, acc: 0.5699999928474426.\n"
     ]
    }
   ],
   "source": [
    "# SGD solver for the convex problem\n",
    "beta_cvx = 2 * beta_noncvx\n",
    "rho = 1e-4\n",
    "solver_type = \"sgd\" # pick: \"sgd\" or \"LBFGS\"\n",
    "LBFGS_param = [10, 4] # these parameters are for the LBFGS solver\n",
    "learning_rate = 1e-3\n",
    "results_pt_hinge = sgd_solver(X_train, y_train, X_valid, y_valid, \n",
    "                              num_epochs, num_neurons, beta_cvx,\n",
    "                              learning_rate, batch_size, solver_type, \n",
    "                              LBFGS_param, D, rho=rho, convex=True,\n",
    "                              u_vector_list=u_vector_list, verbose=verbose,\n",
    "                              eps=1e-2, last_n=10)"
   ]
  },
  {
   "cell_type": "markdown",
   "metadata": {},
   "source": [
    "## PyTorch - relaxed"
   ]
  },
  {
   "cell_type": "code",
   "execution_count": 13,
   "metadata": {
    "scrolled": true
   },
   "outputs": [
    {
     "name": "stdout",
     "output_type": "stream",
     "text": [
      "Epoch [0/2], TRAIN: nll: 69.651, loss: 69.668, acc: 0.655.\n",
      "\t     TEST: nll: 74.696, loss: 74.696, acc: 0.715.\n",
      "Epoch [1/2], TRAIN: nll: 68.215, loss: 68.239, acc: 0.662.\n",
      "\t     TEST: nll: 73.724, loss: 73.724, acc: 0.762.\n",
      "\n",
      "TRAIN:  ZEROS nll: 75.59500122070312, loss: 75.595, acc: 0.7850000262260437.\n",
      "\tONES nll: 60.834999084472656, loss: 60.835, acc: 0.5389999747276306.\n",
      "TEST:   ZEROS nll: 75.29000091552734, loss: 75.29, acc: 0.7879999876022339.\n",
      "\tONES nll: 60.625, loss: 60.625, acc: 0.5389999747276306.\n"
     ]
    }
   ],
   "source": [
    "# SGD solver for the convex problem\n",
    "beta_cvx = 2 * beta_noncvx\n",
    "solver_type = \"sgd\" # pick: \"sgd\" or \"LBFGS\"\n",
    "LBFGS_param = [10, 4] # these parameters are for the LBFGS solver\n",
    "learning_rate = 1e-3\n",
    "results_pt_relaxed = sgd_solver(X_train, y_train, X_valid, y_valid, \n",
    "                                num_epochs, num_neurons, beta_cvx,\n",
    "                                learning_rate, batch_size, solver_type, \n",
    "                                LBFGS_param, D, rho=0, convex=True,\n",
    "                                u_vector_list=u_vector_list, verbose=verbose, \n",
    "                                eps=1e-2, last_n=10)"
   ]
  },
  {
   "cell_type": "markdown",
   "metadata": {},
   "source": [
    "## CVXPY - exact"
   ]
  },
  {
   "cell_type": "code",
   "execution_count": 5,
   "metadata": {
    "scrolled": true
   },
   "outputs": [
    {
     "name": "stdout",
     "output_type": "stream",
     "text": [
      "created problem\n",
      "----------------------------------------------------------------------------\n",
      "\tSCS v2.1.2 - Splitting Conic Solver\n",
      "\t(c) Brendan O'Donoghue, Stanford University, 2012\n",
      "----------------------------------------------------------------------------\n",
      "Lin-sys: sparse-direct, nnz in A = 6844688\n",
      "eps = 1.00e-04, alpha = 1.50, max_iters = 2000, normalize = 1, scale = 1.00\n",
      "acceleration_lookback = 10, rho_x = 1.00e-03\n",
      "Variables n = 4200, constraints m = 5008300\n",
      "Cones:\tlinear vars: 5001200\n",
      "\tsoc vars: 1100, soc blks: 100\n",
      "\texp vars: 6000, dual exp vars: 0\n",
      "Setup time: 3.41e+01s\n",
      "----------------------------------------------------------------------------\n",
      " Iter | pri res | dua res | rel gap | pri obj | dua obj | kap/tau | time (s)\n",
      "----------------------------------------------------------------------------\n",
      "     0| 1.16e+20  2.99e+22  1.00e+00 -8.07e+18  5.20e+24  1.24e+25  7.70e-01 \n",
      "   100| 7.61e-03  2.35e+00  9.96e-01  2.70e+02 -0.00e+00  1.52e-14  7.83e+01 \n",
      "   200| 6.71e-05  1.08e-01  4.77e-03  7.74e+01  7.81e+01  1.76e-14  1.52e+02 \n",
      "   300| 1.14e-04  1.53e-01  3.23e-02  7.69e+01  7.21e+01  1.94e-14  2.26e+02 \n",
      "   400| 1.57e-04  1.05e-01  6.10e-02  7.55e+01  8.54e+01  3.09e-14  3.01e+02 \n",
      "   500| 1.41e-04  1.73e-01  1.42e-03  7.55e+01  7.53e+01  6.35e-15  3.77e+02 \n",
      "   600| 8.69e-05  7.80e-02  2.71e-03  7.53e+01  7.49e+01  4.67e-15  4.53e+02 \n",
      "   700| 1.40e-04  1.73e-01  1.34e-02  7.51e+01  7.72e+01  3.33e-14  5.28e+02 \n",
      "   800| 8.71e-05  1.03e-01  6.89e-03  7.49e+01  7.60e+01  6.42e-14  6.04e+02 \n",
      "   900| 1.20e-04  1.05e-01  1.56e-02  7.48e+01  7.71e+01  3.10e-15  6.79e+02 \n",
      "  1000| 8.64e-05  8.50e-02  5.75e-03  7.46e+01  7.54e+01  7.74e-14  7.53e+02 \n",
      "  1100| 5.82e-05  6.92e-02  2.13e-04  7.45e+01  7.46e+01  1.47e-15  8.28e+02 \n",
      "  1200| 3.67e-05  4.45e-02  8.28e-03  7.45e+01  7.58e+01  2.45e-14  9.03e+02 \n",
      "  1300| 3.56e-05  4.64e-02  6.53e-03  7.45e+01  7.55e+01  7.22e-14  9.79e+02 \n",
      "  1400| 3.42e-05  5.22e-02  2.92e-03  7.45e+01  7.49e+01  7.93e-14  1.06e+03 \n",
      "  1500| 3.37e-05  4.59e-02  9.29e-03  7.45e+01  7.59e+01  4.18e-14  1.13e+03 \n",
      "  1600| 4.19e-05  5.08e-02  3.04e-03  7.45e+01  7.49e+01  3.18e-14  1.21e+03 \n",
      "  1700| 3.50e-05  5.50e-02  8.39e-04  7.45e+01  7.46e+01  5.80e-14  1.28e+03 \n",
      "  1800| 3.48e-05  4.58e-02  7.01e-03  7.44e+01  7.55e+01  1.96e-14  1.36e+03 \n",
      "  1900| 3.37e-05  4.92e-02  9.36e-03  7.44e+01  7.59e+01  6.71e-14  1.43e+03 \n",
      "  2000| 3.43e-05  4.50e-02  6.87e-03  7.44e+01  7.55e+01  2.75e-14  1.51e+03 \n",
      "----------------------------------------------------------------------------\n",
      "Status: Solved/Inaccurate\n",
      "Hit max_iters, solution may be inaccurate, returning best found solution.\n",
      "Timing: Solve time: 1.51e+03s\n",
      "\tLin-sys: nnz in L factor: 12180266, avg solve time: 9.34e-02s\n",
      "\tCones: avg projection time: 4.14e-02s\n",
      "\tAcceleration: avg step time: 4.53e-01s\n",
      "----------------------------------------------------------------------------\n",
      "Error metrics:\n",
      "dist(s, K) = 6.9389e-18, dist(y, K*) = 1.0842e-19, s'y/|s||y| = 4.6912e-12\n",
      "primal res: |Ax + s - b|_2 / (1 + |b|_2) = 3.0313e-05\n",
      "dual res:   |A'y + c|_2 / (1 + |c|_2) = 4.1358e-02\n",
      "rel gap:    |c'x + b'y| / (1 + |c'x| + |b'y|) = 6.6093e-03\n",
      "----------------------------------------------------------------------------\n",
      "c'x = 74.4666, -b'y = 75.4641\n",
      "============================================================================\n",
      "Convex program objective value (eq (8)): 74.46656629458411\n",
      "Time: 1545.1657619476318\n",
      "TRAIN: nll: 74.462, loss: 74.467, acc: 499.974.\n",
      "TEST: nll: 83.151, loss: 83.151, acc: 0.619.\n"
     ]
    }
   ],
   "source": [
    "# CVXPY solver for the convex problem\n",
    "max_iters = 2000\n",
    "solver_type = 'SCS' #'ECOS', 'OSQP', or 'SCS'\n",
    "beta_cvx = 2 * beta_noncvx\n",
    "batch_size = 1000\n",
    "results_cp_exact = cvxpy_solver(X_train, y_train, X_valid, y_valid, \n",
    "                                max_iters, num_neurons, beta_cvx, \n",
    "                                solver_type, D, u_vector_list, \n",
    "                                batch_size=batch_size, verbose=True)"
   ]
  },
  {
   "cell_type": "markdown",
   "metadata": {},
   "source": [
    "## CVXPY - relaxed"
   ]
  },
  {
   "cell_type": "code",
   "execution_count": 6,
   "metadata": {
    "scrolled": true
   },
   "outputs": [
    {
     "name": "stdout",
     "output_type": "stream",
     "text": [
      "created problem\n",
      "----------------------------------------------------------------------------\n",
      "\tSCS v2.1.2 - Splitting Conic Solver\n",
      "\t(c) Brendan O'Donoghue, Stanford University, 2012\n",
      "----------------------------------------------------------------------------\n",
      "Lin-sys: sparse-direct, nnz in A = 7625142\n",
      "eps = 1.00e-04, alpha = 1.50, max_iters = 2000, normalize = 1, scale = 1.00\n",
      "acceleration_lookback = 10, rho_x = 1.00e-03\n",
      "Variables n = 301200, constraints m = 701300\n",
      "Cones:\tlinear vars: 100200\n",
      "\tsoc vars: 1100, soc blks: 100\n",
      "\texp vars: 600000, dual exp vars: 0\n",
      "Setup time: 1.53e+01s\n",
      "----------------------------------------------------------------------------\n",
      " Iter | pri res | dua res | rel gap | pri obj | dua obj | kap/tau | time (s)\n",
      "----------------------------------------------------------------------------\n",
      "     0| 5.61e+21  6.43e+23  1.00e+00 -1.04e+21  1.09e+26  1.40e+26  4.20e+00 \n",
      "   100| 7.51e-03  9.83e-01  9.86e-01  5.26e+02  3.14e+00  2.06e-12  9.07e+01 \n",
      "   200| 1.39e-03  1.08e-01  6.05e-02  6.59e+01  5.83e+01  2.24e-12  2.24e+02 \n",
      "   300| 2.42e-04  7.21e-02  1.96e-02  6.25e+01  6.00e+01  3.18e-12  4.20e+02 \n",
      "   400| 5.11e-05  8.57e-03  1.64e-03  6.24e+01  6.26e+01  2.82e-12  6.13e+02 \n",
      "   500| 3.60e-05  6.04e-03  2.49e-04  6.24e+01  6.24e+01  5.10e-13  8.05e+02 \n",
      "   600| 2.17e-04  4.61e-02  4.39e-03  6.23e+01  6.17e+01  3.24e-12  9.97e+02 \n",
      "   700| 7.57e-05  4.96e-03  1.69e-03  6.23e+01  6.25e+01  3.27e-13  1.19e+03 \n",
      "   800| 2.17e-05  1.92e-03  1.12e-04  6.23e+01  6.23e+01  3.27e-12  1.38e+03 \n",
      "   900| 2.35e-05  2.58e-03  2.05e-03  6.23e+01  6.20e+01  3.06e-12  1.57e+03 \n",
      "  1000| 8.82e-06  1.16e-03  7.90e-04  6.23e+01  6.24e+01  7.45e-13  1.76e+03 \n",
      "  1100| 2.17e-05  3.06e-03  1.77e-03  6.23e+01  6.25e+01  1.62e-12  1.95e+03 \n",
      "  1200| 3.66e-05  5.81e-03  6.67e-04  6.23e+01  6.23e+01  1.14e-12  2.14e+03 \n",
      "  1300| 9.59e-06  2.35e-03  1.11e-04  6.23e+01  6.22e+01  4.09e-12  2.34e+03 \n",
      "  1400| 4.19e-06  4.12e-04  2.92e-04  6.23e+01  6.23e+01  1.71e-12  2.53e+03 \n",
      "  1500| 4.62e-05  3.36e-03  3.27e-04  6.23e+01  6.22e+01  3.79e-12  2.72e+03 \n",
      "  1600| 8.04e-06  1.01e-03  3.27e-04  6.22e+01  6.22e+01  3.40e-12  2.91e+03 \n",
      "  1700| 7.19e-06  4.58e-04  1.11e-04  6.22e+01  6.22e+01  3.23e-13  3.10e+03 \n",
      "  1800| 5.17e-06  2.55e-04  2.56e-04  6.22e+01  6.22e+01  3.02e-12  3.29e+03 \n",
      "  1900| 5.40e-06  4.46e-04  1.76e-04  6.22e+01  6.23e+01  1.92e-12  3.48e+03 \n",
      "  2000| 4.07e-06  4.27e-04  1.46e-04  6.22e+01  6.23e+01  4.65e-12  3.67e+03 \n",
      "----------------------------------------------------------------------------\n",
      "Status: Solved/Inaccurate\n",
      "Hit max_iters, solution may be inaccurate, returning best found solution.\n",
      "Timing: Solve time: 3.67e+03s\n",
      "\tLin-sys: nnz in L factor: 9072072, avg solve time: 4.85e-02s\n",
      "\tCones: avg projection time: 1.66e+00s\n",
      "\tAcceleration: avg step time: 9.31e-02s\n",
      "----------------------------------------------------------------------------\n",
      "Error metrics:\n",
      "dist(s, K) = 2.2204e-16, dist(y, K*) = 3.3881e-21, s'y/|s||y| = -1.9869e-10\n",
      "primal res: |Ax + s - b|_2 / (1 + |b|_2) = 1.5471e-06\n",
      "dual res:   |A'y + c|_2 / (1 + |c|_2) = 1.2249e-04\n",
      "rel gap:    |c'x + b'y| / (1 + |c'x| + |b'y|) = 1.7543e-05\n",
      "----------------------------------------------------------------------------\n",
      "c'x = 62.2463, -b'y = 62.2485\n",
      "============================================================================\n",
      "Convex program objective value (eq (8)): 62.24630991546438\n",
      "Time: 3706.517529964447\n",
      "TRAIN: nll: 62.246, loss: 62.246, acc: 50007.116.\n",
      "TEST: nll: 67.892, loss: 67.892, acc: 0.741.\n"
     ]
    }
   ],
   "source": [
    "# CVXPY solver for the convex problem\n",
    "# max_iters = 100\n",
    "solver_type = 'SCS' #'ECOS', 'OSQP', or 'SCS'\n",
    "beta_cvx = 2 * beta_noncvx\n",
    "batch_size = 100000 #X_train.shape[0]\n",
    "results_cp_relaxed = cvxpy_solver(X_train, y_train, X_valid, y_valid, \n",
    "                                  max_iters, num_neurons, beta_cvx, \n",
    "                                  solver_type, D, u_vector_list,\n",
    "                                  batch_size=batch_size,\n",
    "                                  exact=False, verbose=True)"
   ]
  },
  {
   "cell_type": "markdown",
   "metadata": {},
   "source": [
    "## Visualization"
   ]
  },
  {
   "cell_type": "code",
   "execution_count": 14,
   "metadata": {},
   "outputs": [],
   "source": [
    "times_nc, epoch_times_nc, xaxis_nc = get_times_epoch_xaxis(results_noncvx, num_epochs)\n",
    "times_pth, epoch_times_pth, xaxis_pth = get_times_epoch_xaxis(results_pt_hinge, num_epochs)\n",
    "times_ptr, epoch_times_ptr, xaxis_ptr = get_times_epoch_xaxis(results_pt_relaxed, num_epochs)\n",
    "times_cpe, epoch_times_cpe, xaxis_cpe = get_times_epoch_xaxis(results_cp_exact, num_epochs, cvxpy=True)\n",
    "times_cpr, epoch_times_cpr, xaxis_cpr = get_times_epoch_xaxis(results_cp_relaxed, num_epochs, cvxpy=True)"
   ]
  },
  {
   "cell_type": "code",
   "execution_count": 15,
   "metadata": {},
   "outputs": [
    {
     "data": {
      "image/png": "[encoded data removed]",
      "text/plain": [
       "<Figure size 432x288 with 1 Axes>"
      ]
     },
     "metadata": {
      "needs_background": "light"
     },
     "output_type": "display_data"
    }
   ],
   "source": [
    "plot_metrics_over_time(xaxis_pth=xaxis_pth, results_pt_hinge=results_pt_hinge)\n",
    "plot_metrics_over_time(xaxis_ptr=xaxis_ptr, results_pt_relaxed=results_pt_relaxed)\n",
    "plot_metrics_over_time(xaxis_nc=xaxis_nc, results_noncvx=results_noncvx)"
   ]
  },
  {
   "cell_type": "code",
   "execution_count": 16,
   "metadata": {},
   "outputs": [
    {
     "ename": "IndexError",
     "evalue": "index -10 is out of bounds for axis 0 with size 3",
     "output_type": "error",
     "traceback": [
      "\u001b[0;31m---------------------------------------------------------------------------\u001b[0m",
      "\u001b[0;31mIndexError\u001b[0m                                Traceback (most recent call last)",
      "\u001b[0;32m<ipython-input-16-0d3e806efdee>\u001b[0m in \u001b[0;36m<module>\u001b[0;34m\u001b[0m\n\u001b[1;32m      1\u001b[0m out_str = get_out_string(results_noncvx, results_pt_hinge, results_pt_relaxed, \n\u001b[1;32m      2\u001b[0m                          \u001b[0mresults_cp_exact\u001b[0m\u001b[0;34m,\u001b[0m \u001b[0mresults_cp_relaxed\u001b[0m\u001b[0;34m,\u001b[0m \u001b[0mepoch_times_nc\u001b[0m\u001b[0;34m,\u001b[0m\u001b[0;34m\u001b[0m\u001b[0;34m\u001b[0m\u001b[0m\n\u001b[0;32m----> 3\u001b[0;31m                          epoch_times_pth, epoch_times_ptr, X_test, y_test, D)\n\u001b[0m\u001b[1;32m      4\u001b[0m \u001b[0mprint\u001b[0m\u001b[0;34m(\u001b[0m\u001b[0mout_str\u001b[0m\u001b[0;34m)\u001b[0m\u001b[0;34m\u001b[0m\u001b[0;34m\u001b[0m\u001b[0m\n\u001b[1;32m      5\u001b[0m \u001b[0mfile\u001b[0m \u001b[0;34m=\u001b[0m \u001b[0mopen\u001b[0m\u001b[0;34m(\u001b[0m\u001b[0;34m'outputs/adult/out.txt'\u001b[0m\u001b[0;34m,\u001b[0m \u001b[0;34m'w'\u001b[0m\u001b[0;34m)\u001b[0m\u001b[0;34m\u001b[0m\u001b[0;34m\u001b[0m\u001b[0m\n",
      "\u001b[0;32m~/code_supplement/utils/helpers.py\u001b[0m in \u001b[0;36mget_out_string\u001b[0;34m(results_noncvx, results_pt_hinge, results_pt_relaxed, results_cp_exact, results_cp_relaxed, epoch_times_nc, epoch_times_pth, epoch_times_ptr, X_test, y_test, D, last_n, loss_no, time_no, iter_no)\u001b[0m\n\u001b[1;32m    156\u001b[0m     \u001b[0mtest_str\u001b[0m \u001b[0;34m=\u001b[0m \u001b[0mformat_string\u001b[0m\u001b[0;34m(\u001b[0m\u001b[0mnc_nll\u001b[0m\u001b[0;34m,\u001b[0m \u001b[0mcpe_nll\u001b[0m\u001b[0;34m,\u001b[0m \u001b[0mpth_nll\u001b[0m\u001b[0;34m,\u001b[0m \u001b[0mcpr_nll\u001b[0m\u001b[0;34m,\u001b[0m \u001b[0mptr_nll\u001b[0m\u001b[0;34m,\u001b[0m \u001b[0;34m'test: '\u001b[0m\u001b[0;34m)\u001b[0m\u001b[0;34m\u001b[0m\u001b[0;34m\u001b[0m\u001b[0m\n\u001b[1;32m    157\u001b[0m \u001b[0;34m\u001b[0m\u001b[0m\n\u001b[0;32m--> 158\u001b[0;31m     train_str = format_string(results_noncvx[loss_no][-last_n], \n\u001b[0m\u001b[1;32m    159\u001b[0m                               \u001b[0mresults_cp_exact\u001b[0m\u001b[0;34m[\u001b[0m\u001b[0mloss_no\u001b[0m\u001b[0;34m]\u001b[0m\u001b[0;34m,\u001b[0m\u001b[0;34m\u001b[0m\u001b[0;34m\u001b[0m\u001b[0m\n\u001b[1;32m    160\u001b[0m                               \u001b[0mresults_pt_hinge\u001b[0m\u001b[0;34m[\u001b[0m\u001b[0mloss_no\u001b[0m\u001b[0;34m]\u001b[0m\u001b[0;34m[\u001b[0m\u001b[0;34m-\u001b[0m\u001b[0mlast_n\u001b[0m\u001b[0;34m]\u001b[0m\u001b[0;34m,\u001b[0m\u001b[0;34m\u001b[0m\u001b[0;34m\u001b[0m\u001b[0m\n",
      "\u001b[0;31mIndexError\u001b[0m: index -10 is out of bounds for axis 0 with size 3"
     ]
    }
   ],
   "source": [
    "out_str = get_out_string(results_noncvx, results_pt_hinge, results_pt_relaxed, \n",
    "                         results_cp_exact, results_cp_relaxed, epoch_times_nc, \n",
    "                         epoch_times_pth, epoch_times_ptr, X_test, y_test, D)\n",
    "print(out_str)\n",
    "file = open('outputs/ocr/out.txt', 'w')\n",
    "file.write(out_str)\n",
    "file.close()"
   ]
  },
  {
   "cell_type": "code",
   "execution_count": null,
   "metadata": {},
   "outputs": [],
   "source": []
  }
 ],
 "metadata": {
  "kernelspec": {
   "display_name": "Python 3",
   "language": "python",
   "name": "python3"
  },
  "language_info": {
   "codemirror_mode": {
    "name": "ipython",
    "version": 3
   },
   "file_extension": ".py",
   "mimetype": "text/x-python",
   "name": "python",
   "nbconvert_exporter": "python",
   "pygments_lexer": "ipython3",
   "version": "3.7.4"
  }
 },
 "nbformat": 4,
 "nbformat_minor": 4
}

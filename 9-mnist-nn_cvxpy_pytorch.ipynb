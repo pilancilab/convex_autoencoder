{
 "cells": [
  {
   "cell_type": "code",
   "execution_count": 1,
   "metadata": {},
   "outputs": [],
   "source": [
    "import numpy as np\n",
    "import torch\n",
    "import sklearn.datasets\n",
    "import struct\n",
    "\n",
    "from utils.preprocess import preprocess_data\n",
    "from utils.loss import nll\n",
    "from utils.helpers import generate_sign_patterns, get_out_string\n",
    "from utils.cvxpy_model import cvxpy_solver\n",
    "from utils.pytorch_model import sgd_solver\n",
    "from utils.visualization import get_times_epoch_xaxis, plot_metrics_over_time, plot_all_models"
   ]
  },
  {
   "cell_type": "markdown",
   "metadata": {},
   "source": [
    "## Load Data"
   ]
  },
  {
   "cell_type": "code",
   "execution_count": 2,
   "metadata": {},
   "outputs": [],
   "source": [
    "def read_idx(filename):\n",
    "    with open(filename, 'rb') as f:\n",
    "        zero, data_type, dims = struct.unpack('>HBB', f.read(4))\n",
    "        shape = tuple(struct.unpack('>I', f.read(4))[0] for d in range(dims))\n",
    "        return np.frombuffer(f.read(), dtype=np.uint8).reshape(shape)\n",
    "\n",
    "directory = \"all_data/mnist_data/\"\n",
    "mnist_data = read_idx(directory + 't10k-images-idx3-ubyte') > 0\n",
    "num_train = 800\n",
    "num_valid = 200\n",
    "num_test = 1000\n",
    "mdtrain = mnist_data[:num_train]\n",
    "mdvalid = mnist_data[num_train : num_train + num_valid]\n",
    "mdtest = mnist_data[num_train + num_valid : num_train + num_valid + num_test]\n",
    "X_tr = mdtrain.reshape((num_train, -1))\n",
    "X_v = mdvalid.reshape((num_valid, -1))\n",
    "X_tst = mdtest.reshape((num_test, -1))\n",
    "X_train, y_train, X_valid, y_valid, X_test, y_test, D = preprocess_data(X_tr, X_v, X_tst, r=10)"
   ]
  },
  {
   "cell_type": "code",
   "execution_count": 3,
   "metadata": {},
   "outputs": [
    {
     "name": "stdout",
     "output_type": "stream",
     "text": [
      "Number of unique sign patterns generated: 50\n"
     ]
    }
   ],
   "source": [
    "# generate random sign patterns\n",
    "P, verbose = 50, True # SET verbose to True to see progress\n",
    "sign_pattern_list, u_vector_list = generate_sign_patterns(X_train, P, verbose)\n",
    "num_neurons = len(sign_pattern_list)\n",
    "num_epochs, batch_size = 10, 100\n",
    "beta_noncvx = 1e-3\n",
    "learning_rate = 1e-3"
   ]
  },
  {
   "cell_type": "markdown",
   "metadata": {},
   "source": [
    "## NN"
   ]
  },
  {
   "cell_type": "code",
   "execution_count": 4,
   "metadata": {
    "scrolled": true
   },
   "outputs": [
    {
     "name": "stdout",
     "output_type": "stream",
     "text": [
      "Epoch [0/10], TRAIN: nll: 348.306, loss: 348.39, acc: 0.878.\n",
      "\t\tTEST: nll: 457.852, loss: 457.852, acc: 0.911.\n",
      "Epoch [1/10], TRAIN: nll: 326.153, loss: 326.25, acc: 0.89.\n",
      "\t\tTEST: nll: 429.041, loss: 429.041, acc: 0.933.\n",
      "Epoch [2/10], TRAIN: nll: 320.137, loss: 320.241, acc: 0.891.\n",
      "\t\tTEST: nll: 418.721, loss: 418.721, acc: 0.935.\n",
      "Epoch [3/10], TRAIN: nll: 317.423, loss: 317.531, acc: 0.891.\n",
      "\t\tTEST: nll: 412.415, loss: 412.415, acc: 0.935.\n",
      "Epoch [4/10], TRAIN: nll: 316.032, loss: 316.144, acc: 0.891.\n",
      "\t\tTEST: nll: 409.592, loss: 409.592, acc: 0.935.\n",
      "Epoch [5/10], TRAIN: nll: 315.39, loss: 315.506, acc: 0.891.\n",
      "\t\tTEST: nll: 405.375, loss: 405.375, acc: 0.935.\n",
      "Epoch [6/10], TRAIN: nll: 314.833, loss: 314.951, acc: 0.891.\n",
      "\t\tTEST: nll: 407.305, loss: 407.305, acc: 0.935.\n",
      "Epoch [7/10], TRAIN: nll: 314.555, loss: 314.674, acc: 0.891.\n",
      "\t\tTEST: nll: 407.391, loss: 407.391, acc: 0.935.\n",
      "Epoch [8/10], TRAIN: nll: 314.326, loss: 314.447, acc: 0.891.\n",
      "\t\tTEST: nll: 406.928, loss: 406.928, acc: 0.935.\n",
      "Epoch [9/10], TRAIN: nll: 314.14, loss: 314.262, acc: 0.891.\n",
      "\t\tTEST: nll: 404.797, loss: 404.797, acc: 0.935.\n",
      "\n",
      "TRAIN:  ZEROS nll: 459.27801513671875, loss: 459.278, acc: 0.9599999785423279.\n",
      "\tONES nll: 169.00900268554688, loss: 169.009, acc: 0.8220000267028809.\n",
      "TEST:   ZEROS nll: 458.96099853515625, loss: 458.961, acc: 0.9599999785423279.\n",
      "\tONES nll: 168.45599365234375, loss: 168.457, acc: 0.824999988079071.\n"
     ]
    }
   ],
   "source": [
    "solver_type = \"sgd\" # pick: \"sgd\" or \"LBFGS\"\n",
    "LBFGS_param = [10, 4] # these parameters are for the LBFGS solver\n",
    "results_noncvx = sgd_solver(X_train, y_train, X_valid, y_valid, \n",
    "                            num_epochs, num_neurons, beta_noncvx, \n",
    "                            learning_rate, batch_size, solver_type, \n",
    "                            LBFGS_param, D, verbose=verbose, eps=1e-2, \n",
    "                            last_n=10)"
   ]
  },
  {
   "cell_type": "markdown",
   "metadata": {},
   "source": [
    "## PyTorch - hinge loss"
   ]
  },
  {
   "cell_type": "code",
   "execution_count": 5,
   "metadata": {
    "scrolled": true
   },
   "outputs": [
    {
     "name": "stdout",
     "output_type": "stream",
     "text": [
      "Epoch [0/10], TRAIN: nll: 314.618, loss: 314.875, acc: 0.891.\n",
      "\t\tTEST: nll: 404.035, loss: 404.119, acc: 0.935.\n",
      "Epoch [1/10], TRAIN: nll: 313.893, loss: 314.167, acc: 0.891.\n",
      "\t\tTEST: nll: 406.335, loss: 406.421, acc: 0.935.\n",
      "Epoch [2/10], TRAIN: nll: 313.616, loss: 313.895, acc: 0.891.\n",
      "\t\tTEST: nll: 402.406, loss: 402.491, acc: 0.935.\n",
      "Epoch [3/10], TRAIN: nll: 313.38, loss: 313.666, acc: 0.891.\n",
      "\t\tTEST: nll: 405.325, loss: 405.411, acc: 0.935.\n",
      "Epoch [4/10], TRAIN: nll: 313.301, loss: 313.59, acc: 0.891.\n",
      "\t\tTEST: nll: 405.285, loss: 405.37, acc: 0.935.\n",
      "Epoch [5/10], TRAIN: nll: 313.212, loss: 313.505, acc: 0.891.\n",
      "\t\tTEST: nll: 402.245, loss: 402.331, acc: 0.935.\n",
      "Epoch [6/10], TRAIN: nll: 313.148, loss: 313.445, acc: 0.891.\n",
      "\t\tTEST: nll: 403.662, loss: 403.749, acc: 0.935.\n",
      "Epoch [7/10], TRAIN: nll: 313.187, loss: 313.488, acc: 0.891.\n",
      "\t\tTEST: nll: 405.959, loss: 406.045, acc: 0.935.\n",
      "Epoch [8/10], TRAIN: nll: 313.114, loss: 313.416, acc: 0.891.\n",
      "\t\tTEST: nll: 404.497, loss: 404.583, acc: 0.935.\n",
      "Epoch [9/10], TRAIN: nll: 313.062, loss: 313.364, acc: 0.891.\n",
      "\t\tTEST: nll: 403.228, loss: 403.313, acc: 0.935.\n",
      "\n",
      "TRAIN:  ZEROS nll: 457.0899963378906, loss: 457.145, acc: 0.9599999785423279.\n",
      "\tONES nll: 169.03799438476562, loss: 169.251, acc: 0.8220000267028809.\n",
      "TEST:   ZEROS nll: 457.0069885253906, loss: 457.063, acc: 0.9599999785423279.\n",
      "\tONES nll: 168.56399536132812, loss: 168.778, acc: 0.824999988079071.\n"
     ]
    }
   ],
   "source": [
    "# SGD solver for the convex problem\n",
    "beta_cvx = 2 * beta_noncvx\n",
    "rho = 1e-4\n",
    "solver_type = \"sgd\" # pick: \"sgd\" or \"LBFGS\"\n",
    "LBFGS_param = [10, 4] # these parameters are for the LBFGS solver\n",
    "learning_rate = 1e-3\n",
    "results_pt_hinge = sgd_solver(X_train, y_train, X_valid, y_valid, \n",
    "                              num_epochs, num_neurons, beta_cvx,\n",
    "                              learning_rate, batch_size, solver_type, \n",
    "                              LBFGS_param, D, rho=rho, convex=True,\n",
    "                              u_vector_list=u_vector_list, verbose=verbose,\n",
    "                              eps=1e-2, last_n=10)"
   ]
  },
  {
   "cell_type": "markdown",
   "metadata": {},
   "source": [
    "## PyTorch - relaxed"
   ]
  },
  {
   "cell_type": "code",
   "execution_count": 6,
   "metadata": {
    "scrolled": true
   },
   "outputs": [
    {
     "name": "stdout",
     "output_type": "stream",
     "text": [
      "Epoch [0/10], TRAIN: nll: 314.654, loss: 314.782, acc: 0.891.\n",
      "\t\tTEST: nll: 404.376, loss: 404.376, acc: 0.935.\n",
      "Epoch [1/10], TRAIN: nll: 313.833, loss: 313.973, acc: 0.891.\n",
      "\t\tTEST: nll: 402.835, loss: 402.835, acc: 0.935.\n",
      "Epoch [2/10], TRAIN: nll: 313.707, loss: 313.853, acc: 0.891.\n",
      "\t\tTEST: nll: 402.279, loss: 402.279, acc: 0.935.\n",
      "Epoch [3/10], TRAIN: nll: 313.399, loss: 313.549, acc: 0.891.\n",
      "\t\tTEST: nll: 405.459, loss: 405.459, acc: 0.935.\n",
      "Epoch [4/10], TRAIN: nll: 313.259, loss: 313.415, acc: 0.891.\n",
      "\t\tTEST: nll: 403.578, loss: 403.578, acc: 0.935.\n",
      "Epoch [5/10], TRAIN: nll: 313.2, loss: 313.359, acc: 0.891.\n",
      "\t\tTEST: nll: 403.357, loss: 403.358, acc: 0.935.\n",
      "Epoch [6/10], TRAIN: nll: 313.177, loss: 313.338, acc: 0.891.\n",
      "\t\tTEST: nll: 402.531, loss: 402.531, acc: 0.935.\n",
      "Epoch [7/10], TRAIN: nll: 313.343, loss: 313.509, acc: 0.891.\n",
      "\t\tTEST: nll: 400.492, loss: 400.492, acc: 0.935.\n",
      "Epoch [8/10], TRAIN: nll: 313.181, loss: 313.349, acc: 0.891.\n",
      "\t\tTEST: nll: 401.531, loss: 401.531, acc: 0.935.\n",
      "Epoch [9/10], TRAIN: nll: 313.077, loss: 313.246, acc: 0.891.\n",
      "\t\tTEST: nll: 401.489, loss: 401.489, acc: 0.935.\n",
      "\n",
      "TRAIN:  ZEROS nll: 454.2879943847656, loss: 454.288, acc: 0.9599999785423279.\n",
      "\tONES nll: 171.8719940185547, loss: 171.872, acc: 0.8220000267028809.\n",
      "TEST:   ZEROS nll: 454.1759948730469, loss: 454.176, acc: 0.9599999785423279.\n",
      "\tONES nll: 171.5850067138672, loss: 171.585, acc: 0.824999988079071.\n"
     ]
    }
   ],
   "source": [
    "# SGD solver for the convex problem\n",
    "beta_cvx = 2 * beta_noncvx\n",
    "solver_type = \"sgd\" # pick: \"sgd\" or \"LBFGS\"\n",
    "LBFGS_param = [10, 4] # these parameters are for the LBFGS solver\n",
    "learning_rate = 1e-3\n",
    "results_pt_relaxed = sgd_solver(X_train, y_train, X_valid, y_valid, \n",
    "                                num_epochs, num_neurons, beta_cvx,\n",
    "                                learning_rate, batch_size, solver_type, \n",
    "                                LBFGS_param, D, rho=0, convex=True,\n",
    "                                u_vector_list=u_vector_list, verbose=verbose, \n",
    "                                eps=1e-2, last_n=10)"
   ]
  },
  {
   "cell_type": "markdown",
   "metadata": {},
   "source": [
    "## CVXPY - exact"
   ]
  },
  {
   "cell_type": "code",
   "execution_count": 8,
   "metadata": {
    "scrolled": true
   },
   "outputs": [
    {
     "name": "stdout",
     "output_type": "stream",
     "text": [
      "created problem\n",
      "----------------------------------------------------------------------------\n",
      "\tSCS v2.1.2 - Splitting Conic Solver\n",
      "\t(c) Brendan O'Donoghue, Stanford University, 2012\n",
      "----------------------------------------------------------------------------\n",
      "Lin-sys: sparse-direct, nnz in A = 87484\n",
      "eps = 1.00e-04, alpha = 1.50, max_iters = 2000, normalize = 1, scale = 1.00\n",
      "acceleration_lookback = 10, rho_x = 1.00e-03\n",
      "Variables n = 1230, constraints m = 51370\n",
      "Cones:\tlinear vars: 50210\n",
      "\tsoc vars: 1100, soc blks: 100\n",
      "\texp vars: 60, dual exp vars: 0\n",
      "Setup time: 4.07e-02s\n",
      "----------------------------------------------------------------------------\n",
      " Iter | pri res | dua res | rel gap | pri obj | dua obj | kap/tau | time (s)\n",
      "----------------------------------------------------------------------------\n",
      "     0| 7.30e+19  1.32e+21  1.00e+00 -6.17e+20  2.02e+24  4.67e+24  1.14e-02 \n",
      "   100| 6.25e-02  1.33e+00  7.58e-01  2.78e+02  2.02e+03  1.47e-13  8.11e-01 \n",
      "   200| 1.30e-04  3.63e-03  3.16e-04  2.72e+02  2.71e+02  2.27e-13  1.59e+00 \n",
      "   300| 1.18e-04  1.47e-03  9.59e-05  2.71e+02  2.71e+02  2.29e-14  2.29e+00 \n",
      "   400| 4.71e-02  4.81e-01  1.25e-03  2.71e+02  2.71e+02  1.12e-13  3.06e+00 \n",
      "   500| 2.61e-02  2.13e+00  8.86e-04  2.71e+02  2.71e+02  1.31e-13  3.86e+00 \n",
      "   600| 1.82e-04  1.67e-03  1.37e-03  2.71e+02  2.72e+02  1.89e-13  4.57e+00 \n",
      "   700| 1.88e-04  3.16e-03  1.70e-03  2.71e+02  2.72e+02  7.71e-14  5.28e+00 \n",
      "   800| 2.25e-04  1.82e-02  1.75e-03  2.71e+02  2.72e+02  3.24e-15  6.10e+00 \n",
      "   900| 1.35e-04  3.63e-03  2.15e-03  2.71e+02  2.72e+02  4.16e-14  6.82e+00 \n",
      "  1000| 1.30e-04  7.31e-03  1.93e-03  2.71e+02  2.70e+02  8.63e-14  7.52e+00 \n",
      "  1100| 5.26e-05  5.12e-03  4.43e-04  2.71e+02  2.71e+02  7.27e-15  8.31e+00 \n",
      "  1200| 2.72e-04  5.05e-03  1.31e-03  2.71e+02  2.72e+02  2.41e-14  9.08e+00 \n",
      "  1300| 1.08e-04  2.13e-03  1.94e-04  2.71e+02  2.71e+02  1.64e-13  9.85e+00 \n",
      "  1400| 8.10e-05  1.95e-03  1.56e-03  2.72e+02  2.71e+02  1.35e-13  1.07e+01 \n",
      "  1500| 2.46e-04  4.32e-03  2.49e-03  2.71e+02  2.70e+02  6.87e-16  1.14e+01 \n",
      "  1600| 4.62e-05  1.23e-03  4.79e-04  2.71e+02  2.71e+02  5.69e-14  1.21e+01 \n",
      "  1700| 8.20e-05  2.14e-03  1.28e-03  2.71e+02  2.70e+02  2.46e-14  1.29e+01 \n",
      "  1800| 7.78e-05  1.26e-03  7.30e-04  2.71e+02  2.71e+02  2.54e-13  1.36e+01 \n",
      "  1900| 7.34e-05  1.90e-03  3.21e-04  2.71e+02  2.72e+02  2.07e-14  1.43e+01 \n",
      "  2000| 2.04e-04  2.62e-03  6.05e-04  2.71e+02  2.71e+02  1.99e-13  1.50e+01 \n",
      "----------------------------------------------------------------------------\n",
      "Status: Solved/Inaccurate\n",
      "Hit max_iters, solution may be inaccurate, returning best found solution.\n",
      "Timing: Solve time: 1.50e+01s\n",
      "\tLin-sys: nnz in L factor: 142847, avg solve time: 8.29e-04s\n",
      "\tCones: avg projection time: 3.41e-04s\n",
      "\tAcceleration: avg step time: 4.92e-03s\n",
      "----------------------------------------------------------------------------\n",
      "Error metrics:\n",
      "dist(s, K) = 5.5511e-17, dist(y, K*) = 2.7756e-17, s'y/|s||y| = -3.0925e-11\n",
      "primal res: |Ax + s - b|_2 / (1 + |b|_2) = 3.8966e-05\n",
      "dual res:   |A'y + c|_2 / (1 + |c|_2) = 8.2285e-04\n",
      "rel gap:    |c'x + b'y| / (1 + |c'x| + |b'y|) = 2.3812e-04\n",
      "----------------------------------------------------------------------------\n",
      "c'x = 271.0835, -b'y = 270.9542\n",
      "============================================================================\n",
      "Convex program objective value (eq (8)): 271.08347361540075\n",
      "Time: 15.26936960220337\n",
      "TRAIN: nll: 268.556, loss: 271.083, acc: 5.4.\n",
      "TEST: nll: 546.83, loss: 546.831, acc: 0.885.\n"
     ]
    }
   ],
   "source": [
    "# CVXPY solver for the convex problem\n",
    "max_iters = 2000\n",
    "solver_type = 'SCS' #'ECOS', 'OSQP', or 'SCS'\n",
    "beta_cvx = 2 * beta_noncvx\n",
    "batch_size = 10\n",
    "results_cp_exact = cvxpy_solver(X_train, y_train, X_valid, y_valid, \n",
    "                                max_iters, num_neurons, beta_cvx, \n",
    "                                solver_type, D, u_vector_list, \n",
    "                                batch_size=batch_size, verbose=True)"
   ]
  },
  {
   "cell_type": "markdown",
   "metadata": {},
   "source": [
    "## CVXPY - relaxed"
   ]
  },
  {
   "cell_type": "code",
   "execution_count": 9,
   "metadata": {
    "scrolled": true
   },
   "outputs": [
    {
     "name": "stdout",
     "output_type": "stream",
     "text": [
      "created problem\n",
      "----------------------------------------------------------------------------\n",
      "\tSCS v2.1.2 - Splitting Conic Solver\n",
      "\t(c) Brendan O'Donoghue, Stanford University, 2012\n",
      "----------------------------------------------------------------------------\n",
      "Lin-sys: sparse-direct, nnz in A = 2484\n",
      "eps = 1.00e-04, alpha = 1.50, max_iters = 2000, normalize = 1, scale = 1.00\n",
      "acceleration_lookback = 10, rho_x = 1.00e-03\n",
      "Variables n = 1230, constraints m = 1370\n",
      "Cones:\tlinear vars: 210\n",
      "\tsoc vars: 1100, soc blks: 100\n",
      "\texp vars: 60, dual exp vars: 0\n",
      "Setup time: 5.96e-03s\n",
      "----------------------------------------------------------------------------\n",
      " Iter | pri res | dua res | rel gap | pri obj | dua obj | kap/tau | time (s)\n",
      "----------------------------------------------------------------------------\n",
      "     0| 3.02e+20  9.45e+20  1.00e+00 -2.16e+22  1.35e+24  1.02e+24  3.83e-03 \n",
      "   100| 4.93e-04  1.25e-03  9.15e-04  2.70e+02  2.70e+02  1.47e-12  6.72e-02 \n",
      "   200| 3.17e-04  9.26e-04  7.33e-04  2.70e+02  2.70e+02  1.87e-13  1.29e-01 \n",
      "   300| 1.08e-03  1.92e-03  2.68e-03  2.70e+02  2.69e+02  1.50e-13  1.91e-01 \n",
      "   400| 4.23e-04  3.96e-04  3.18e-04  2.70e+02  2.70e+02  3.68e-14  2.67e-01 \n",
      "   500| 1.68e-04  2.51e-04  5.29e-04  2.70e+02  2.70e+02  4.33e-13  3.46e-01 \n",
      "   600| 9.06e-05  2.49e-04  4.95e-04  2.70e+02  2.70e+02  1.07e-12  4.13e-01 \n",
      "   700| 6.89e-05  1.63e-04  3.98e-04  2.70e+02  2.70e+02  3.91e-13  4.76e-01 \n",
      "   800| 1.00e-04  8.69e-04  4.14e-04  2.70e+02  2.70e+02  1.85e-13  5.39e-01 \n",
      "   900| 9.95e-05  3.86e-04  3.57e-04  2.70e+02  2.70e+02  6.41e-13  6.00e-01 \n",
      "  1000| 3.28e-04  8.50e-04  1.16e-03  2.70e+02  2.70e+02  1.51e-12  6.61e-01 \n",
      "  1100| 1.53e-03  3.74e-03  8.05e-04  2.70e+02  2.69e+02  3.29e-13  7.22e-01 \n",
      "  1200| 5.96e-05  1.95e-04  3.53e-04  2.70e+02  2.70e+02  2.14e-13  7.87e-01 \n",
      "  1300| 1.38e-04  2.66e-04  2.78e-04  2.70e+02  2.70e+02  1.89e-13  8.48e-01 \n",
      "  1400| 1.50e-04  3.60e-04  6.43e-04  2.70e+02  2.70e+02  9.66e-13  9.12e-01 \n",
      "  1500| 3.07e-05  6.58e-05  2.61e-04  2.70e+02  2.70e+02  3.81e-13  9.74e-01 \n",
      "  1600| 5.97e-04  1.51e-03  1.37e-03  2.70e+02  2.71e+02  1.51e-13  1.03e+00 \n",
      "  1700| 2.80e-04  5.21e-04  2.02e-04  2.70e+02  2.70e+02  6.56e-13  1.10e+00 \n",
      "  1800| 1.92e-04  2.94e-04  2.31e-04  2.70e+02  2.69e+02  8.80e-13  1.16e+00 \n",
      "  1900| 4.69e-05  1.01e-04  1.61e-04  2.70e+02  2.69e+02  6.17e-13  1.22e+00 \n",
      "  2000| 1.34e-04  4.43e-04  4.21e-05  2.70e+02  2.70e+02  7.51e-13  1.28e+00 \n",
      "----------------------------------------------------------------------------\n",
      "Status: Solved/Inaccurate\n",
      "Hit max_iters, solution may be inaccurate, returning best found solution.\n",
      "Timing: Solve time: 1.28e+00s\n",
      "\tLin-sys: nnz in L factor: 5188, avg solve time: 2.25e-05s\n",
      "\tCones: avg projection time: 3.61e-04s\n",
      "\tAcceleration: avg step time: 1.88e-04s\n",
      "----------------------------------------------------------------------------\n",
      "Error metrics:\n",
      "dist(s, K) = 2.7756e-17, dist(y, K*) = 2.7756e-17, s'y/|s||y| = -2.2458e-11\n",
      "primal res: |Ax + s - b|_2 / (1 + |b|_2) = 4.6899e-05\n",
      "dual res:   |A'y + c|_2 / (1 + |c|_2) = 1.0087e-04\n",
      "rel gap:    |c'x + b'y| / (1 + |c'x| + |b'y|) = 1.6143e-04\n",
      "----------------------------------------------------------------------------\n",
      "c'x = 269.5313, -b'y = 269.4442\n",
      "============================================================================\n",
      "Convex program objective value (eq (8)): 269.5313325380411\n",
      "Time: 1.3258593082427979\n",
      "TRAIN: nll: 268.381, loss: 269.531, acc: 5.4.\n",
      "TEST: nll: 581.795, loss: 581.795, acc: 0.888.\n"
     ]
    }
   ],
   "source": [
    "# CVXPY solver for the convex problem\n",
    "max_iters = 2000\n",
    "solver_type = 'SCS' #'ECOS', 'OSQP', or 'SCS'\n",
    "beta_cvx = 2 * beta_noncvx\n",
    "#batch_size = 10000 #X_train.shape[0]\n",
    "results_cp_relaxed = cvxpy_solver(X_train, y_train, X_valid, y_valid, \n",
    "                                  max_iters, num_neurons, beta_cvx, \n",
    "                                  solver_type, D, u_vector_list,\n",
    "                                  batch_size=batch_size,\n",
    "                                  exact=False, verbose=True)"
   ]
  },
  {
   "cell_type": "markdown",
   "metadata": {},
   "source": [
    "## Visualization"
   ]
  },
  {
   "cell_type": "code",
   "execution_count": 10,
   "metadata": {},
   "outputs": [
    {
     "data": {
      "image/png": "[encoded data removed]",
      "text/plain": [
       "<Figure size 1210x907.5 with 6 Axes>"
      ]
     },
     "metadata": {
      "needs_background": "light"
     },
     "output_type": "display_data"
    }
   ],
   "source": [
    "n = 64\n",
    "start = 100\n",
    "fontsize = 18\n",
    "width = 11\n",
    "scale = 16\n",
    "models = [results_pt_hinge[-1], results_pt_relaxed[-1], results_noncvx[-1], \n",
    "          results_cp_exact[-1], results_cp_relaxed[-1]]\n",
    "names = ['Hinge PyTorch', 'Relaxed PyTorch', 'Neural Network', 'Exact CVXPY', 'Relaxed CVXPY']\n",
    "# plot_all_models(mdtrain, shifted, start, n, models, names, fontsize, width)\n",
    "#plot_all_models(mdvalid, X_valid, start, n, models, names, fontsize, width)\n",
    "plot_all_models(mdtest, X_test, start, n, models, names, fontsize, width, scale)"
   ]
  },
  {
   "cell_type": "code",
   "execution_count": null,
   "metadata": {},
   "outputs": [],
   "source": [
    "times_nc, epoch_times_nc, xaxis_nc = get_times_epoch_xaxis(results_noncvx, num_epochs)\n",
    "times_pth, epoch_times_pth, xaxis_pth = get_times_epoch_xaxis(results_pt_hinge, num_epochs)\n",
    "times_ptr, epoch_times_ptr, xaxis_ptr = get_times_epoch_xaxis(results_pt_relaxed, num_epochs)\n",
    "times_cpe, epoch_times_cpe, xaxis_cpe = get_times_epoch_xaxis(results_cp_exact, num_epochs, cvxpy=True)\n",
    "times_cpr, epoch_times_cpr, xaxis_cpr = get_times_epoch_xaxis(results_cp_relaxed, num_epochs, cvxpy=True)"
   ]
  },
  {
   "cell_type": "code",
   "execution_count": null,
   "metadata": {},
   "outputs": [],
   "source": [
    "plot_metrics_over_time(xaxis_pth=xaxis_pth, results_pt_hinge=results_pt_hinge)\n",
    "plot_metrics_over_time(xaxis_ptr=xaxis_ptr, results_pt_relaxed=results_pt_relaxed)\n",
    "plot_metrics_over_time(xaxis_nc=xaxis_nc, results_noncvx=results_noncvx)"
   ]
  },
  {
   "cell_type": "code",
   "execution_count": null,
   "metadata": {},
   "outputs": [],
   "source": []
  }
 ],
 "metadata": {
  "kernelspec": {
   "display_name": "Python 3",
   "language": "python",
   "name": "python3"
  },
  "language_info": {
   "codemirror_mode": {
    "name": "ipython",
    "version": 3
   },
   "file_extension": ".py",
   "mimetype": "text/x-python",
   "name": "python",
   "nbconvert_exporter": "python",
   "pygments_lexer": "ipython3",
   "version": "3.7.4"
  }
 },
 "nbformat": 4,
 "nbformat_minor": 4
}

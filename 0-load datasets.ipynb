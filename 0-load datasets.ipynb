{
 "cells": [
  {
   "cell_type": "code",
   "execution_count": 1,
   "metadata": {},
   "outputs": [],
   "source": [
    "import numpy as np\n",
    "import sklearn.datasets"
   ]
  },
  {
   "cell_type": "code",
   "execution_count": 11,
   "metadata": {},
   "outputs": [
    {
     "data": {
      "text/plain": [
       "(26147, 122)"
      ]
     },
     "execution_count": 11,
     "metadata": {},
     "output_type": "execute_result"
    }
   ],
   "source": [
    "# adult\n",
    "base_dir = 'all_data/vector_data/adult/a5a_'\n",
    "output_dir = 'outputs/adult/'\n",
    "names = ['train', 'valid', 'test']\n",
    "files = [base_dir + ds + '.libsvm' for ds in names]\n",
    "d_tuples = [sklearn.datasets.load_svmlight_file(file) for file in files]\n",
    "X_tr, X_v, X_tst = [data[0].toarray() for data in d_tuples]\n",
    "X_tst = X_tst[:, :-1]"
   ]
  },
  {
   "cell_type": "code",
   "execution_count": 3,
   "metadata": {},
   "outputs": [
    {
     "data": {
      "text/plain": [
       "(16000, 126)"
      ]
     },
     "execution_count": 3,
     "metadata": {},
     "output_type": "execute_result"
    }
   ],
   "source": [
    "# connect4\n",
    "base_dir = 'all_data/vector_data/connect4/connect-4_'\n",
    "output_dir = 'outputs/connect4/'\n",
    "names = ['train', 'valid', 'test']\n",
    "files = [base_dir + ds + '.libsvm' for ds in names]\n",
    "d_tuples = [sklearn.datasets.load_svmlight_file(file) for file in files]\n",
    "X_tr, X_v, X_tst = [data[0].toarray() for data in d_tuples]"
   ]
  },
  {
   "cell_type": "code",
   "execution_count": 4,
   "metadata": {},
   "outputs": [
    {
     "data": {
      "text/plain": [
       "(1400, 180)"
      ]
     },
     "execution_count": 4,
     "metadata": {},
     "output_type": "execute_result"
    }
   ],
   "source": [
    "# dna\n",
    "base_dir = 'all_data/vector_data/dna/dna_scale_'\n",
    "output_dir = 'outputs/dna/'\n",
    "names = ['train', 'valid', 'test']\n",
    "files = [base_dir + ds + '.libsvm' for ds in names]\n",
    "d_tuples = [sklearn.datasets.load_svmlight_file(file) for file in files]\n",
    "X_tr, X_v, X_tst = [data[0].toarray() for data in d_tuples]"
   ]
  },
  {
   "cell_type": "code",
   "execution_count": 5,
   "metadata": {},
   "outputs": [
    {
     "data": {
      "text/plain": [
       "(2000, 112)"
      ]
     },
     "execution_count": 5,
     "metadata": {},
     "output_type": "execute_result"
    }
   ],
   "source": [
    "# mushrooms\n",
    "base_dir = 'all_data/vector_data/mushrooms/mushrooms_'\n",
    "output_dir = 'outputs/mushrooms/'\n",
    "names = ['train', 'valid', 'test']\n",
    "files = [base_dir + ds + '.libsvm' for ds in names]\n",
    "d_tuples = [sklearn.datasets.load_svmlight_file(file) for file in files]\n",
    "X_tr, X_v, X_tst = [data[0].toarray() for data in d_tuples]"
   ]
  },
  {
   "cell_type": "code",
   "execution_count": 6,
   "metadata": {},
   "outputs": [
    {
     "data": {
      "text/plain": [
       "(400, 500)"
      ]
     },
     "execution_count": 6,
     "metadata": {},
     "output_type": "execute_result"
    }
   ],
   "source": [
    "# nips\n",
    "base_dir = 'all_data/vector_data/nips/'\n",
    "base_dir += 'nips-0-12_all_shuffled_bidon_target_'\n",
    "output_dir = 'outputs/nips/'\n",
    "names = ['train', 'valid', 'test']\n",
    "files = [base_dir + ds + '.amat' for ds in names]\n",
    "d_tuples = [np.loadtxt(file) for file in files]\n",
    "X_tr, X_v, X_tst = [data[:, :-1] for data in d_tuples]"
   ]
  },
  {
   "cell_type": "code",
   "execution_count": 7,
   "metadata": {},
   "outputs": [
    {
     "data": {
      "text/plain": [
       "(32152, 128)"
      ]
     },
     "execution_count": 7,
     "metadata": {},
     "output_type": "execute_result"
    }
   ],
   "source": [
    "# ocr_letters\n",
    "base_dir = 'all_data/vector_data/ocr_letters/ocr_letters_'\n",
    "output_dir = 'outputs/ocr_letters/'\n",
    "names = ['train', 'valid', 'test']\n",
    "files = [base_dir + ds + '.txt' for ds in names]\n",
    "d_tuples = [np.loadtxt(file) for file in files]\n",
    "X_tr, X_v, X_tst = [data[:, :-1] for data in d_tuples]"
   ]
  },
  {
   "cell_type": "code",
   "execution_count": 8,
   "metadata": {},
   "outputs": [
    {
     "data": {
      "text/plain": [
       "(40000, 150)"
      ]
     },
     "execution_count": 8,
     "metadata": {},
     "output_type": "execute_result"
    }
   ],
   "source": [
    "# rcv1\n",
    "base_dir = 'all_data/vector_data/rcv1/rcv1_all_subset.binary_'\n",
    "output_dir = 'outputs/rcv1/'\n",
    "names = ['train', 'valid', 'test']\n",
    "files = [base_dir + ds + '_voc_150.amat' for ds in names]\n",
    "d_tuples = [np.loadtxt(file) for file in files]\n",
    "X_tr, X_v, X_tst = [data[:, :-1] for data in d_tuples]"
   ]
  },
  {
   "cell_type": "code",
   "execution_count": 9,
   "metadata": {},
   "outputs": [
    {
     "data": {
      "text/plain": [
       "(14000, 300)"
      ]
     },
     "execution_count": 9,
     "metadata": {},
     "output_type": "execute_result"
    }
   ],
   "source": [
    "# web\n",
    "base_dir = 'all_data/vector_data/web/w6a_'\n",
    "output_dir = 'outputs/web/'\n",
    "names = ['train', 'valid', 'test']\n",
    "files = [base_dir + ds + '.libsvm' for ds in names]\n",
    "d_tuples = [sklearn.datasets.load_svmlight_file(file) for file in files]\n",
    "X_tr, X_v, X_tst = [data[0].toarray() for data in d_tuples]"
   ]
  },
  {
   "cell_type": "code",
   "execution_count": 19,
   "metadata": {},
   "outputs": [],
   "source": [
    "import struct\n",
    "def read_idx(filename):\n",
    "    with open(filename, 'rb') as f:\n",
    "        zero, data_type, dims = struct.unpack('>HBB', f.read(4))\n",
    "        shape = tuple(struct.unpack('>I', f.read(4))[0] for d in range(dims))\n",
    "        return np.frombuffer(f.read(), dtype=np.uint8).reshape(shape)\n",
    "\n",
    "directory = \"all_data/mnist_data/\"\n",
    "mnist_data = read_idx(directory + 't10k-images-idx3-ubyte') > 0\n",
    "num_train = 800\n",
    "num_valid = 200\n",
    "mdtrain = mnist_data[:num_train]\n",
    "mdvalid = mnist_data[num_train : num_train + num_valid]\n",
    "X_tr = mdtrain.reshape((num_train, -1))\n",
    "X_v = mdvalid.reshape((num_valid, -1))\n",
    "\n",
    "# model = results_cvx_shift[-1]\n",
    "# plot_img(mnist_data, shifted, labels, model, 0) # train\n",
    "# plot_img(mnist_data[num_train:], X_valid, y_valid, model, 0) # val"
   ]
  },
  {
   "cell_type": "code",
   "execution_count": null,
   "metadata": {},
   "outputs": [],
   "source": []
  }
 ],
 "metadata": {
  "kernelspec": {
   "display_name": "Python 3",
   "language": "python",
   "name": "python3"
  },
  "language_info": {
   "codemirror_mode": {
    "name": "ipython",
    "version": 3
   },
   "file_extension": ".py",
   "mimetype": "text/x-python",
   "name": "python",
   "nbconvert_exporter": "python",
   "pygments_lexer": "ipython3",
   "version": "3.7.4"
  }
 },
 "nbformat": 4,
 "nbformat_minor": 4
}
